{
 "cells": [
  {
   "cell_type": "code",
   "execution_count": 102,
   "metadata": {},
   "outputs": [
    {
     "name": "stdout",
     "output_type": "stream",
     "text": [
      "[0, 135, 41, 5, 131, 471, 172, 207, 110, 44]\n"
     ]
    },
    {
     "data": {
      "image/png": "[encoded data removed]",
      "text/plain": [
       "<Figure size 432x288 with 1 Axes>"
      ]
     },
     "metadata": {
      "needs_background": "light"
     },
     "output_type": "display_data"
    }
   ],
   "source": [
    "#k center problem with outliers\n",
    "import numpy as np\n",
    "import matplotlib.pyplot as plt\n",
    "import math\n",
    "import itertools\n",
    "\n",
    "\n",
    "class KCenterProblemWithOutliers():\n",
    "  def __init__(self, x_input, y_input) -> None:\n",
    "    self.x_input, self.y_input = x_input, y_input\n",
    "    self.NUM_INPUTS = len(x_input)\n",
    "    self.dists = [[0 for _ in range(self.NUM_INPUTS)] for _ in range(self.NUM_INPUTS)]\n",
    "    self.selected_samples = []\n",
    "\n",
    "  def compute_dists(self):\n",
    "    for r in range(self.NUM_INPUTS):\n",
    "      for c in range(self.NUM_INPUTS):\n",
    "        if not r == c:\n",
    "          self.dists[r][c] = math.sqrt((self.x_input[r] - self.x_input[c])**2 + (self.y_input[r] - self.y_input[c])**2)\n",
    "\n",
    "  def select_samples(self, query_size):\n",
    "    def maxindex(dist):\n",
    "      max_ind = 0\n",
    "      for i in range(self.NUM_INPUTS):\n",
    "          if (dist[i] > dist[max_ind]):\n",
    "              max_ind = i\n",
    "      return max_ind\n",
    "\n",
    "    self.compute_dists()\n",
    "\n",
    "    self.center_dists = [float('inf') for _ in range(self.NUM_INPUTS)]\n",
    "\n",
    "    max_center = 0\n",
    "\n",
    "    for _ in range(query_size):\n",
    "      self.selected_samples.append(max_center)\n",
    "      \n",
    "      for j in range(self.NUM_INPUTS):\n",
    "        self.center_dists[j] = min(self.center_dists[j], self.dists[max_center][j])\n",
    "      \n",
    "      max_center = maxindex(self.center_dists)\n",
    "\n",
    "    print(self.selected_samples)\n",
    "\n",
    "    x_query, y_query = [], []\n",
    "    for sample_ind in self.selected_samples:\n",
    "      x_query.append(self.x_input[sample_ind])\n",
    "      y_query.append(self.y_input[sample_ind])\n",
    "\n",
    "    self.plot_points(x_input, y_input, x_query, y_query)\n",
    "\n",
    "  def plot_points(self, x_input, y_input, x_query, y_query):\n",
    "    plt.scatter(x=x_input, y=y_input, color='blue')\n",
    "    plt.scatter(x=x_query, y=y_query, color='red')\n",
    "    plt.show()\n",
    "\n",
    "if __name__ == '__main__' :\n",
    "  min_val, max_val, num_vals = 0, 100, 500\n",
    "  query_size = 10\n",
    "\n",
    "  x_input = np.random.randint(min_val, max_val, num_vals).tolist()\n",
    "  y_input = np.random.randint(min_val, max_val, num_vals).tolist()\n",
    "\n",
    "  query = KCenterProblemWithOutliers(x_input, y_input)\n",
    "  query.select_samples(query_size)"
   ]
  }
 ],
 "metadata": {
  "kernelspec": {
   "display_name": "Python 3",
   "language": "python",
   "name": "python3"
  },
  "language_info": {
   "codemirror_mode": {
    "name": "ipython",
    "version": 3
   },
   "file_extension": ".py",
   "mimetype": "text/x-python",
   "name": "python",
   "nbconvert_exporter": "python",
   "pygments_lexer": "ipython3",
   "version": "3.10.3"
  },
  "orig_nbformat": 4,
  "vscode": {
   "interpreter": {
    "hash": "181a558524a3a2a91d0c76313ac1570f0fb272238a8b73e3efbaac1c1ef56039"
   }
  }
 },
 "nbformat": 4,
 "nbformat_minor": 2
}
