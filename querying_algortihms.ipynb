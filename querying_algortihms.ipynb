{
 "cells": [
  {
   "cell_type": "code",
   "execution_count": null,
   "metadata": {},
   "outputs": [],
   "source": [
    "#k center problem with outliers\n",
    "\n",
    "class KCenterProblemWithOutliers():\n",
    "  pass\n",
    "\n",
    "if __name__ == '__main__' :\n",
    "  query = KCenterProblemWithOutliers()"
   ]
  }
 ],
 "metadata": {
  "language_info": {
   "name": "python"
  },
  "orig_nbformat": 4
 },
 "nbformat": 4,
 "nbformat_minor": 2
}
