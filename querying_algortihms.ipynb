{
 "cells": [
  {
   "cell_type": "code",
   "execution_count": 53,
   "metadata": {},
   "outputs": [
    {
     "name": "stdout",
     "output_type": "stream",
     "text": [
      "[[21.93171219946131, 24.041630560342615, 61.5223536610881, 73.00684899377592, 62.369864518050704, 90.27181176868004, 72.94518489934754, 49.9799959983992, 10.198039027185569, 10.198039027185569], [21.93171219946131, 24.041630560342615, 61.5223536610881, 73.00684899377592, 62.369864518050704, 90.27181176868004, 72.94518489934754, 49.9799959983992, 10.198039027185569, 10.198039027185569], [21.93171219946131, 24.041630560342615, 61.5223536610881, 73.00684899377592, 62.369864518050704, 90.27181176868004, 72.94518489934754, 49.9799959983992, 10.198039027185569, 10.198039027185569], [21.93171219946131, 24.041630560342615, 61.5223536610881, 73.00684899377592, 62.369864518050704, 90.27181176868004, 72.94518489934754, 49.9799959983992, 10.198039027185569, 10.198039027185569], [21.93171219946131, 24.041630560342615, 61.5223536610881, 73.00684899377592, 62.369864518050704, 90.27181176868004, 72.94518489934754, 49.9799959983992, 10.198039027185569, 10.198039027185569], [21.93171219946131, 24.041630560342615, 61.5223536610881, 73.00684899377592, 62.369864518050704, 90.27181176868004, 72.94518489934754, 49.9799959983992, 10.198039027185569, 10.198039027185569], [21.93171219946131, 24.041630560342615, 61.5223536610881, 73.00684899377592, 62.369864518050704, 90.27181176868004, 72.94518489934754, 49.9799959983992, 10.198039027185569, 10.198039027185569], [21.93171219946131, 24.041630560342615, 61.5223536610881, 73.00684899377592, 62.369864518050704, 90.27181176868004, 72.94518489934754, 49.9799959983992, 10.198039027185569, 10.198039027185569], [21.93171219946131, 24.041630560342615, 61.5223536610881, 73.00684899377592, 62.369864518050704, 90.27181176868004, 72.94518489934754, 49.9799959983992, 10.198039027185569, 10.198039027185569], [21.93171219946131, 24.041630560342615, 61.5223536610881, 73.00684899377592, 62.369864518050704, 90.27181176868004, 72.94518489934754, 49.9799959983992, 10.198039027185569, 10.198039027185569]]\n"
     ]
    },
    {
     "data": {
      "image/png": "[encoded data removed]",
      "text/plain": [
       "<Figure size 432x288 with 1 Axes>"
      ]
     },
     "metadata": {
      "needs_background": "light"
     },
     "output_type": "display_data"
    }
   ],
   "source": [
    "#k center problem with outliers\n",
    "import numpy as np\n",
    "import matplotlib.pyplot as plt\n",
    "import math\n",
    "\n",
    "\n",
    "class KCenterProblemWithOutliers():\n",
    "  def __init__(self, x_input, y_input) -> None:\n",
    "    self.x_input, self.y_input = x_input, y_input\n",
    "    self.NUM_INPUTS = len(x_input)\n",
    "    self.dists = [[0] * self.NUM_INPUTS] * self.NUM_INPUTS\n",
    "\n",
    "  def compute_dists(self):\n",
    "    for i in range(self.NUM_INPUTS):\n",
    "      for j in range(self.NUM_INPUTS):\n",
    "        if not i == j:\n",
    "          self.dists[i][j] = math.sqrt((self.x_input[i]-self.x_input[j])**2 + (self.y_input[i]-self.y_input[j])**2)\n",
    "    return self.dists\n",
    "\n",
    "  def plot_points(self):\n",
    "    plt.scatter(self.x_input, self.y_input)\n",
    "    plt.show()\n",
    "\n",
    "  def select_samples():\n",
    "    return []\n",
    "\n",
    "if __name__ == '__main__' :\n",
    "  min_val, max_val, num_vals = 0, 100, 10\n",
    "\n",
    "  x_input = np.random.randint(min_val, max_val, num_vals).tolist()\n",
    "  y_input = np.random.randint(min_val, max_val, num_vals).tolist()\n",
    "\n",
    "  query = KCenterProblemWithOutliers(x_input, y_input)\n",
    "  query.plot_points()"
   ]
  }
 ],
 "metadata": {
  "kernelspec": {
   "display_name": "Python 3",
   "language": "python",
   "name": "python3"
  },
  "language_info": {
   "codemirror_mode": {
    "name": "ipython",
    "version": 3
   },
   "file_extension": ".py",
   "mimetype": "text/x-python",
   "name": "python",
   "nbconvert_exporter": "python",
   "pygments_lexer": "ipython3",
   "version": "3.10.3"
  },
  "orig_nbformat": 4,
  "vscode": {
   "interpreter": {
    "hash": "181a558524a3a2a91d0c76313ac1570f0fb272238a8b73e3efbaac1c1ef56039"
   }
  }
 },
 "nbformat": 4,
 "nbformat_minor": 2
}
