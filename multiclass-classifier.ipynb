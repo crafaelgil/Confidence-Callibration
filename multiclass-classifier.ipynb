{
 "cells": [
  {
   "cell_type": "code",
   "execution_count": 2,
   "metadata": {},
   "outputs": [
    {
     "name": "stderr",
     "output_type": "stream",
     "text": [
      "/Users/carlosgil/.pyenv/versions/3.10.3/lib/python3.10/site-packages/tqdm/auto.py:22: TqdmWarning: IProgress not found. Please update jupyter and ipywidgets. See https://ipywidgets.readthedocs.io/en/stable/user_install.html\n",
      "  from .autonotebook import tqdm as notebook_tqdm\n"
     ]
    },
    {
     "name": "stdout",
     "output_type": "stream",
     "text": [
      "Please install the required packages first. Use `pip install -r requirements.txt`.\n"
     ]
    },
    {
     "ename": "ImportError",
     "evalue": "cannot import name 'Evaluator' from 'medmnist' (/Users/carlosgil/.pyenv/versions/3.10.3/lib/python3.10/site-packages/medmnist/__init__.py)",
     "output_type": "error",
     "traceback": [
      "\u001b[0;31m---------------------------------------------------------------------------\u001b[0m",
      "\u001b[0;31mImportError\u001b[0m                               Traceback (most recent call last)",
      "\u001b[1;32m/Users/carlosgil/Documents/Osaka University/Graduation project/Source Code/multiclass-classifier.ipynb Cell 1'\u001b[0m in \u001b[0;36m<cell line: 2>\u001b[0;34m()\u001b[0m\n\u001b[1;32m      <a href='vscode-notebook-cell:/Users/carlosgil/Documents/Osaka%20University/Graduation%20project/Source%20Code/multiclass-classifier.ipynb#ch0000000?line=0'>1</a>\u001b[0m \u001b[39mimport\u001b[39;00m \u001b[39mmedmnist\u001b[39;00m\n\u001b[0;32m----> <a href='vscode-notebook-cell:/Users/carlosgil/Documents/Osaka%20University/Graduation%20project/Source%20Code/multiclass-classifier.ipynb#ch0000000?line=1'>2</a>\u001b[0m \u001b[39mfrom\u001b[39;00m \u001b[39mmedmnist\u001b[39;00m \u001b[39mimport\u001b[39;00m INFO, Evaluator\n\u001b[1;32m      <a href='vscode-notebook-cell:/Users/carlosgil/Documents/Osaka%20University/Graduation%20project/Source%20Code/multiclass-classifier.ipynb#ch0000000?line=3'>4</a>\u001b[0m \u001b[39mimport\u001b[39;00m \u001b[39mtorch\u001b[39;00m\n\u001b[1;32m      <a href='vscode-notebook-cell:/Users/carlosgil/Documents/Osaka%20University/Graduation%20project/Source%20Code/multiclass-classifier.ipynb#ch0000000?line=4'>5</a>\u001b[0m \u001b[39mimport\u001b[39;00m \u001b[39mtorch\u001b[39;00m\u001b[39m.\u001b[39;00m\u001b[39mnn\u001b[39;00m \u001b[39mas\u001b[39;00m \u001b[39mnn\u001b[39;00m \n",
      "\u001b[0;31mImportError\u001b[0m: cannot import name 'Evaluator' from 'medmnist' (/Users/carlosgil/.pyenv/versions/3.10.3/lib/python3.10/site-packages/medmnist/__init__.py)"
     ]
    }
   ],
   "source": [
    "import medmnist\n",
    "from medmnist import INFO, Evaluator\n",
    "\n",
    "import torch\n",
    "import torch.nn as nn \n",
    "import torch.optim as optim\n",
    "import torch.utils.data as data\n",
    "import torchvision.transforms as transforms\n",
    "\n",
    "from tqdm import tqdm\n",
    "import numpy as np"
   ]
  },
  {
   "cell_type": "code",
   "execution_count": 20,
   "metadata": {},
   "outputs": [
    {
     "name": "stdout",
     "output_type": "stream",
     "text": [
      "<class 'medmnist.dataset.DermaMNIST'>\n"
     ]
    }
   ],
   "source": [
    "data_flag = \"dermamnist\"\n",
    "download = True\n",
    "\n",
    "NUM_EPOCHS = 3\n",
    "BATCH_SIZE = 128\n",
    "lr = 0.001\n",
    "\n",
    "info = INFO[data_flag]\n",
    "task = info['task']\n",
    "num_channels = info['n_channels']\n",
    "num_classes = len(info['label'])\n",
    "\n",
    "DataClass = getattr(medmnist, info['python_class'])\n",
    "\n",
    "print(DataClass)"
   ]
  },
  {
   "cell_type": "code",
   "execution_count": 21,
   "metadata": {},
   "outputs": [
    {
     "name": "stdout",
     "output_type": "stream",
     "text": [
      "Using downloaded and verified file: /Users/carlosgil/.medmnist/dermamnist.npz\n",
      "Using downloaded and verified file: /Users/carlosgil/.medmnist/dermamnist.npz\n",
      "Dataset DermaMNIST (dermamnist)\n",
      "    Number of datapoints: 7007\n",
      "    Root location: /Users/carlosgil/.medmnist\n",
      "    Split: train\n",
      "    Task: multi-class\n",
      "    Number of channels: 3\n",
      "    Meaning of labels: {'0': 'actinic keratoses and intraepithelial carcinoma', '1': 'basal cell carcinoma', '2': 'benign keratosis-like lesions', '3': 'dermatofibroma', '4': 'melanoma', '5': 'melanocytic nevi', '6': 'vascular lesions'}\n",
      "    Number of samples: {'train': 7007, 'val': 1003, 'test': 2005}\n",
      "    Description: The DermaMNIST is based on the HAM10000, a large collection of multi-source dermatoscopic images of common pigmented skin lesions. The dataset consists of 10,015 dermatoscopic images categorized as 7 different diseases, formulized as a multi-class classification task. We split the images into training, validation and test set with a ratio of 7:1:2. The source images of 3×600×450 are resized into 3×28×28.\n",
      "    License: CC BY 4.0\n",
      "===============\n",
      "Dataset DermaMNIST (dermamnist)\n",
      "    Number of datapoints: 2005\n",
      "    Root location: /Users/carlosgil/.medmnist\n",
      "    Split: test\n",
      "    Task: multi-class\n",
      "    Number of channels: 3\n",
      "    Meaning of labels: {'0': 'actinic keratoses and intraepithelial carcinoma', '1': 'basal cell carcinoma', '2': 'benign keratosis-like lesions', '3': 'dermatofibroma', '4': 'melanoma', '5': 'melanocytic nevi', '6': 'vascular lesions'}\n",
      "    Number of samples: {'train': 7007, 'val': 1003, 'test': 2005}\n",
      "    Description: The DermaMNIST is based on the HAM10000, a large collection of multi-source dermatoscopic images of common pigmented skin lesions. The dataset consists of 10,015 dermatoscopic images categorized as 7 different diseases, formulized as a multi-class classification task. We split the images into training, validation and test set with a ratio of 7:1:2. The source images of 3×600×450 are resized into 3×28×28.\n",
      "    License: CC BY 4.0\n"
     ]
    }
   ],
   "source": [
    "#preprocessing\n",
    "data_transform = transforms.Compose([\n",
    "  transforms.ToTensor(),\n",
    "  transforms.Normalize(mean=[.5], std=[.5])\n",
    "])\n",
    "\n",
    "#loading\n",
    "train_dataset = DataClass(split='train', transform=data_transform, download=download)\n",
    "test_dataset = DataClass(split='test', transform=data_transform, download=download)\n",
    "\n",
    "#encapsulating\n",
    "train_loader = data.DataLoader(dataset=train_dataset, batch_size=BATCH_SIZE, shuffle=True)\n",
    "train_loader_at_eval = data.DataLoader(dataset=train_dataset, batch_size=2*BATCH_SIZE, shuffle=False)\n",
    "test_loader = data.DataLoader(dataset=test_dataset, batch_size=2*BATCH_SIZE, shuffle=False)\n",
    "\n",
    "print(train_dataset)\n",
    "print(\"===============\")\n",
    "print(test_dataset)"
   ]
  },
  {
   "cell_type": "code",
   "execution_count": 16,
   "metadata": {},
   "outputs": [
    {
     "ename": "ModuleNotFoundError",
     "evalue": "No module named 'medmnist.utils'",
     "output_type": "error",
     "traceback": [
      "\u001b[0;31m---------------------------------------------------------------------------\u001b[0m",
      "\u001b[0;31mModuleNotFoundError\u001b[0m                       Traceback (most recent call last)",
      "\u001b[1;32m/Users/carlosgil/Documents/Osaka University/Graduation project/Source Code/multiclass-classifier.ipynb Cell 4'\u001b[0m in \u001b[0;36m<cell line: 2>\u001b[0;34m()\u001b[0m\n\u001b[1;32m      <a href='vscode-notebook-cell:/Users/carlosgil/Documents/Osaka%20University/Graduation%20project/Source%20Code/multiclass-classifier.ipynb#ch0000003?line=0'>1</a>\u001b[0m \u001b[39m#visualization\u001b[39;00m\n\u001b[0;32m----> <a href='vscode-notebook-cell:/Users/carlosgil/Documents/Osaka%20University/Graduation%20project/Source%20Code/multiclass-classifier.ipynb#ch0000003?line=1'>2</a>\u001b[0m train_dataset\u001b[39m.\u001b[39;49mmontage(length\u001b[39m=\u001b[39;49m\u001b[39m20\u001b[39;49m)\n",
      "File \u001b[0;32m~/.pyenv/versions/3.10.3/lib/python3.10/site-packages/medmnist/dataset.py:128\u001b[0m, in \u001b[0;36mMedMNIST2D.montage\u001b[0;34m(self, length, replace, save_folder)\u001b[0m\n\u001b[1;32m    127\u001b[0m \u001b[39mdef\u001b[39;00m \u001b[39mmontage\u001b[39m(\u001b[39mself\u001b[39m, length\u001b[39m=\u001b[39m\u001b[39m20\u001b[39m, replace\u001b[39m=\u001b[39m\u001b[39mFalse\u001b[39;00m, save_folder\u001b[39m=\u001b[39m\u001b[39mNone\u001b[39;00m):\n\u001b[0;32m--> 128\u001b[0m     \u001b[39mfrom\u001b[39;00m \u001b[39mmedmnist\u001b[39;00m\u001b[39m.\u001b[39;00m\u001b[39mutils\u001b[39;00m \u001b[39mimport\u001b[39;00m montage2d\n\u001b[1;32m    130\u001b[0m     n_sel \u001b[39m=\u001b[39m length \u001b[39m*\u001b[39m length\n\u001b[1;32m    131\u001b[0m     sel \u001b[39m=\u001b[39m np\u001b[39m.\u001b[39mrandom\u001b[39m.\u001b[39mchoice(\u001b[39mself\u001b[39m\u001b[39m.\u001b[39m\u001b[39m__len__\u001b[39m(), size\u001b[39m=\u001b[39mn_sel, replace\u001b[39m=\u001b[39mreplace)\n",
      "\u001b[0;31mModuleNotFoundError\u001b[0m: No module named 'medmnist.utils'"
     ]
    }
   ],
   "source": [
    "#visualization\n",
    "train_dataset.montage(length=20)"
   ]
  }
 ],
 "metadata": {
  "kernelspec": {
   "display_name": "Python 3.10.3 64-bit ('3.10.3')",
   "language": "python",
   "name": "python3"
  },
  "language_info": {
   "codemirror_mode": {
    "name": "ipython",
    "version": 3
   },
   "file_extension": ".py",
   "mimetype": "text/x-python",
   "name": "python",
   "nbconvert_exporter": "python",
   "pygments_lexer": "ipython3",
   "version": "3.10.3"
  },
  "orig_nbformat": 4,
  "vscode": {
   "interpreter": {
    "hash": "181a558524a3a2a91d0c76313ac1570f0fb272238a8b73e3efbaac1c1ef56039"
   }
  }
 },
 "nbformat": 4,
 "nbformat_minor": 2
}
