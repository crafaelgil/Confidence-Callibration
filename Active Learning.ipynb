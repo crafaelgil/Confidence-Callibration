{
 "cells": [
  {
   "cell_type": "code",
   "execution_count": 2,
   "metadata": {},
   "outputs": [
    {
     "name": "stderr",
     "output_type": "stream",
     "text": [
      "/Users/carlosgil/.pyenv/versions/3.10.3/lib/python3.10/site-packages/tqdm/auto.py:22: TqdmWarning: IProgress not found. Please update jupyter and ipywidgets. See https://ipywidgets.readthedocs.io/en/stable/user_install.html\n",
      "  from .autonotebook import tqdm as notebook_tqdm\n"
     ]
    }
   ],
   "source": [
    "import torch\n",
    "import torch.nn as nn\n",
    "import torch.optim as optim\n",
    "from torch.utils.data import DataLoader, Dataset\n",
    "import torchvision.transforms as transforms\n",
    "import medmnist\n",
    "from medmnist import INFO\n",
    "import numpy as np\n",
    "from tqdm import tqdm"
   ]
  },
  {
   "cell_type": "code",
   "execution_count": 33,
   "metadata": {},
   "outputs": [],
   "source": [
    "# Global variables\n",
    "DATASET = 'bloodmnist'\n",
    "NUM_CLASSES = 8\n",
    "BATCH_SIZE = 128\n",
    "LABELS_PER_CLASS = 1\n",
    "NUM_ACTIVE_LEARNING_ITERATIONS = 3\n",
    "QUERY_SIZE = 8"
   ]
  },
  {
   "cell_type": "code",
   "execution_count": 37,
   "metadata": {},
   "outputs": [
    {
     "name": "stdout",
     "output_type": "stream",
     "text": [
      "Using downloaded and verified file: /Users/carlosgil/.medmnist/bloodmnist.npz\n",
      "Using downloaded and verified file: /Users/carlosgil/.medmnist/bloodmnist.npz\n",
      "Using downloaded and verified file: /Users/carlosgil/.medmnist/bloodmnist.npz\n",
      "Using downloaded and verified file: /Users/carlosgil/.medmnist/bloodmnist.npz\n",
      "Using downloaded and verified file: /Users/carlosgil/.medmnist/bloodmnist.npz\n",
      "train_labeled_inds[:10] = [26, 10, 6, 1, 28, 22, 2, 0]\n",
      "train_unlabeled_inds[:10] = [38, 42, 47, 79, 81, 86, 92, 112, 159, 165]\n",
      "inds_to_query = [38, 42, 47, 79, 81, 86, 92, 112]\n",
      "Using downloaded and verified file: /Users/carlosgil/.medmnist/bloodmnist.npz\n",
      "Using downloaded and verified file: /Users/carlosgil/.medmnist/bloodmnist.npz\n",
      "Using downloaded and verified file: /Users/carlosgil/.medmnist/bloodmnist.npz\n",
      "Using downloaded and verified file: /Users/carlosgil/.medmnist/bloodmnist.npz\n",
      "train_labeled_inds[:10] = [26 10  6  1 28 22  2  0 38 42]\n",
      "train_unlabeled_inds[:10] = [159 165 176 196 249 255 276 279 295 302]\n",
      "inds_to_query = [159 165 176 196 249 255 276 279]\n",
      "Using downloaded and verified file: /Users/carlosgil/.medmnist/bloodmnist.npz\n",
      "Using downloaded and verified file: /Users/carlosgil/.medmnist/bloodmnist.npz\n",
      "Using downloaded and verified file: /Users/carlosgil/.medmnist/bloodmnist.npz\n",
      "Using downloaded and verified file: /Users/carlosgil/.medmnist/bloodmnist.npz\n",
      "train_labeled_inds[:10] = [26 10  6  1 28 22  2  0 38 42]\n",
      "train_unlabeled_inds[:10] = [295 302 304 343 390 393 410 421 430 447]\n",
      "inds_to_query = [295 302 304 343 390 393 410 421]\n",
      "Using downloaded and verified file: /Users/carlosgil/.medmnist/bloodmnist.npz\n",
      "Using downloaded and verified file: /Users/carlosgil/.medmnist/bloodmnist.npz\n",
      "Using downloaded and verified file: /Users/carlosgil/.medmnist/bloodmnist.npz\n",
      "Using downloaded and verified file: /Users/carlosgil/.medmnist/bloodmnist.npz\n",
      "train_labeled_inds[:10] = [26 10  6  1 28 22  2  0 38 42]\n",
      "train_unlabeled_inds[:10] = [430 447 450 454 461 471 474 486 490 493]\n"
     ]
    }
   ],
   "source": [
    "class DataSubset(Dataset):\n",
    "  def __init__(self, base_dataset, inds=None, size=-1):\n",
    "    self.base_dataset = base_dataset\n",
    "    if inds is None:\n",
    "        inds = np.random.choice(\n",
    "            list(range(len(base_dataset))), size, replace=False)\n",
    "    self.inds = inds\n",
    "\n",
    "  def __getitem__(self, ind):\n",
    "    self.base_ind = self.inds[ind]\n",
    "    return self.base_dataset[self.base_ind]\n",
    "\n",
    "  def __len__(self):\n",
    "    return len(self.inds)\n",
    "\n",
    "def get_data(train_inds=None, train_labeled_inds=None, train_unlabeled_inds=None, inds_to_query=None, active_learning_iter=False):\n",
    "  def cycle(loader):\n",
    "    while True:\n",
    "      for data in loader:\n",
    "        yield data\n",
    "            \n",
    "  def MedMNIST(train, transforms):\n",
    "    info = INFO[DATASET]\n",
    "    DataClass = getattr(medmnist, info['python_class'])\n",
    "    return DataClass(split='train' if train else 'val', transform=transforms, download=True)\n",
    "  \n",
    "  transform_train = transforms.Compose([\n",
    "    transforms.Pad(4, padding_mode=\"reflect\"),\n",
    "    transforms.RandomCrop(28),\n",
    "    transforms.RandomHorizontalFlip(),\n",
    "    transforms.ToTensor(),\n",
    "    lambda x: x + 3e-2 * torch.randn_like(x)\n",
    "  ])\n",
    "\n",
    "  transform_val = transforms.Compose([\n",
    "    transforms.ToTensor(),\n",
    "    transforms.Normalize((.5, .5, .5), (.5, .5, .5)),\n",
    "    lambda x: x + 3e-2 * torch.randn_like(x)\n",
    "  ])\n",
    "\n",
    "  if not active_learning_iter: # if start iteration\n",
    "    train_class = MedMNIST(train=True, transforms=transform_train) # (img_vector, label)\n",
    "\n",
    "    train_inds = list(range(len(train_class)))\n",
    "    \n",
    "    # np.random.seed(0)\n",
    "    # np.random.shuffle(train_inds)\n",
    "\n",
    "    train_inds = np.array(train_inds)\n",
    "    train_labels = np.array([np.squeeze(train_class[ind][1]) for ind in train_inds])\n",
    "\n",
    "    if NUM_CLASSES > 0:\n",
    "      train_labeled_inds, train_unlabeled_inds = [], []\n",
    "      for i in range(NUM_CLASSES):\n",
    "        train_labeled_inds.extend(train_inds[train_labels == i][:LABELS_PER_CLASS])\n",
    "        train_unlabeled_inds.extend(train_inds[train_labels == i][LABELS_PER_CLASS:])\n",
    "    else:\n",
    "      train_labeled_inds = train_inds\n",
    "\n",
    "    \n",
    "  else: # Every active learning iteration\n",
    "    train_labeled_inds = np.append(train_labeled_inds, inds_to_query)\n",
    "    relative_inds_in_unlabeled_set = np.argwhere(np.isin(train_unlabeled_inds, inds_to_query))\n",
    "    train_unlabeled_inds = np.delete(train_unlabeled_inds, relative_inds_in_unlabeled_set)\n",
    "\n",
    "  dset_train = DataSubset(MedMNIST(train=True, transforms=transform_train), inds=train_inds)\n",
    "  dset_train_labeled = DataSubset(MedMNIST(train=True, transforms=transform_train), inds=train_labeled_inds)\n",
    "  dset_train_unlabeled = DataSubset(MedMNIST(train=True, transforms=transform_train), inds=train_unlabeled_inds)\n",
    "  dset_validation = MedMNIST(train=False, transforms=transform_val)\n",
    "\n",
    "  BATCH_SIZE_LABELED = BATCH_SIZE_UNLABELED = BATCH_SIZE if LABELS_PER_CLASS * NUM_CLASSES > BATCH_SIZE else LABELS_PER_CLASS * NUM_CLASSES\n",
    "\n",
    "  dload_train = DataLoader(dset_train, batch_size=BATCH_SIZE, shuffle=True, num_workers=4, drop_last=True)\n",
    "  dload_train_labeled = DataLoader(dset_train_labeled, batch_size=BATCH_SIZE_LABELED, shuffle=True, num_workers=4, drop_last=True)\n",
    "  dload_train_unlabeled = DataLoader(dset_train_unlabeled, batch_size=BATCH_SIZE_UNLABELED, shuffle=True, num_workers=4, drop_last=True)\n",
    "  dload_val = DataLoader(dset_validation, batch_size=BATCH_SIZE, shuffle=False, num_workers=4, drop_last=False)\n",
    "\n",
    "  return dload_train, dload_train_labeled, dload_train_unlabeled, dload_val, train_inds, train_labeled_inds, train_unlabeled_inds\n",
    "\n",
    "dload_train, dload_train_labeled, dload_train_unlabeled, dload_val, train_inds, train_labeled_inds, train_unlabeled_inds = get_data()\n",
    "\n",
    "for i in range(NUM_ACTIVE_LEARNING_ITERATIONS):\n",
    "  inds_to_query = np.random.randint(0, len(train_unlabeled_inds), QUERY_SIZE)\n",
    "  dload_train, dload_train_labeled, dload_train_unlabeled, dload_val, train_inds, train_labeled_inds, train_unlabeled_inds = get_data(train_inds=train_inds,\n",
    "                                                                                                                                      train_labeled_inds=train_labeled_inds,\n",
    "                                                                                                                                      train_unlabeled_inds=train_unlabeled_inds,\n",
    "                                                                                                                                      inds_to_query=inds_to_query,\n",
    "                                                                                                                                      active_learning_iter=True)"
   ]
  }
 ],
 "metadata": {
  "kernelspec": {
   "display_name": "Python 3",
   "language": "python",
   "name": "python3"
  },
  "language_info": {
   "codemirror_mode": {
    "name": "ipython",
    "version": 3
   },
   "file_extension": ".py",
   "mimetype": "text/x-python",
   "name": "python",
   "nbconvert_exporter": "python",
   "pygments_lexer": "ipython3",
   "version": "3.10.3"
  },
  "orig_nbformat": 4,
  "vscode": {
   "interpreter": {
    "hash": "181a558524a3a2a91d0c76313ac1570f0fb272238a8b73e3efbaac1c1ef56039"
   }
  }
 },
 "nbformat": 4,
 "nbformat_minor": 2
}
