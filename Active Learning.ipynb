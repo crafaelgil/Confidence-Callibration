{
 "cells": [
  {
   "cell_type": "code",
   "execution_count": 2,
   "metadata": {},
   "outputs": [],
   "source": [
    "import torch\n",
    "import torch.nn as nn\n",
    "import torch.optim as optim\n",
    "from torch.utils.data import DataLoader, Dataset\n",
    "import torchvision.transforms as transforms\n",
    "import medmnist\n",
    "from medmnist import INFO\n",
    "import numpy as np\n",
    "from tqdm import tqdm"
   ]
  },
  {
   "cell_type": "code",
   "execution_count": 22,
   "metadata": {},
   "outputs": [
    {
     "name": "stdout",
     "output_type": "stream",
     "text": [
      "Using downloaded and verified file: /Users/carlosgil/.medmnist/bloodmnist.npz\n"
     ]
    }
   ],
   "source": [
    "class DataSubset(Dataset):\n",
    "  def __init__(self, base_dataset, inds=None, size=-1):\n",
    "    self.base_dataset = base_dataset\n",
    "    if inds is None:\n",
    "        inds = np.random.choice(\n",
    "            list(range(len(base_dataset))), size, replace=False)\n",
    "    self.inds = inds\n",
    "\n",
    "  def __getitem__(self, ind):\n",
    "    self.base_ind = self.inds[ind]\n",
    "    return self.base_dataset[self.base_ind]\n",
    "\n",
    "  def __len__(self):\n",
    "        return len(self.inds)\n",
    "\n",
    "def get_data(train_labeled_inds=None, train_unlabeled_inds=None, inds_to_query=None, active_learning_iter=False):\n",
    "  transform_train = transforms.Compose([\n",
    "    transforms.Pad(4, padding_mode=\"reflect\"),\n",
    "    transforms.RandomCrop(28),\n",
    "    transforms.RandomHorizontalFlip(),\n",
    "    transforms.ToTensor(),\n",
    "    lambda x: x + 3e-2 * torch.randn_like(x)\n",
    "  ])\n",
    "\n",
    "  transform_val = transforms.Compose([\n",
    "    transforms.ToTensor(),\n",
    "    transforms.Normalize((.5, .5, .5), (.5, .5, .5)),\n",
    "    lambda x: x + 3e-2 * torch.randn_like(x)\n",
    "  ])\n",
    "\n",
    "  def MedMNIST(dataset, train, transforms):\n",
    "    info = INFO[dataset]\n",
    "    DataClass = getattr(medmnist, info['python_class'])\n",
    "    return DataClass(split='train' if train else 'val', transform=transforms, download=True)\n",
    "\n",
    "  train_class = MedMNIST(dataset='bloodmnist', train=True, transforms=transform_train) # (img_vector, label)\n",
    "\n",
    "  train_inds = list(range(len(train_class)))\n",
    "  \n",
    "  # np.random.seed(0)\n",
    "  # np.random.shuffle(train_inds)\n",
    "\n",
    "  train_inds = np.array(train_inds)\n",
    "  train_labels = np.array([np.squeeze(train_class[ind][1]) for ind in train_inds])\n",
    "\n",
    "get_data()"
   ]
  }
 ],
 "metadata": {
  "kernelspec": {
   "display_name": "Python 3",
   "language": "python",
   "name": "python3"
  },
  "language_info": {
   "codemirror_mode": {
    "name": "ipython",
    "version": 3
   },
   "file_extension": ".py",
   "mimetype": "text/x-python",
   "name": "python",
   "nbconvert_exporter": "python",
   "pygments_lexer": "ipython3",
   "version": "3.10.3"
  },
  "orig_nbformat": 4,
  "vscode": {
   "interpreter": {
    "hash": "181a558524a3a2a91d0c76313ac1570f0fb272238a8b73e3efbaac1c1ef56039"
   }
  }
 },
 "nbformat": 4,
 "nbformat_minor": 2
}
